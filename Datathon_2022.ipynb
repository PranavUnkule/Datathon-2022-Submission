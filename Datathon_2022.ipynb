{
 "cells": [
  {
   "cell_type": "code",
   "execution_count": 23,
   "id": "8a4a62a7",
   "metadata": {
    "pycharm": {
     "name": "#%%\n"
    }
   },
   "outputs": [],
   "source": [
    "import numpy as np\n",
    "import pandas as pd\n",
    "import seaborn as sns\n",
    "import matplotlib.pyplot as plt\n",
    "import plotly.express as px\n",
    "import plotly.graph_objects as go\n",
    "import plotly.figure_factory as ff\n",
    "from plotly.subplots import make_subplots\n",
    "import folium\n",
    "%matplotlib inline\n",
    "\n",
    "import math\n",
    "import random\n",
    "from datetime import timedelta\n",
    "import warnings\n",
    "warnings.filterwarnings('ignore')\n",
    "\n",
    "#color pallette\n",
    "cnf = '#393e46'\n",
    "dth = '#ff2e63'\n",
    "rec = '#21bf73'\n",
    "act = '#fe9801'"
   ]
  },
  {
   "cell_type": "code",
   "execution_count": 2,
   "id": "24e42b29",
   "metadata": {
    "pycharm": {
     "name": "#%%\n"
    }
   },
   "outputs": [],
   "source": [
    "by_Week_Sex_Age = pd.read_csv('Provisional_COVID-19_Deaths_by_Week__Sex__and_Age.csv', parse_dates=['Data as of'])"
   ]
  },
  {
   "cell_type": "code",
   "execution_count": 3,
   "id": "acf79de7",
   "metadata": {
    "pycharm": {
     "name": "#%%\n"
    }
   },
   "outputs": [
    {
     "data": {
      "text/html": [
       "<div>\n",
       "<style scoped>\n",
       "    .dataframe tbody tr th:only-of-type {\n",
       "        vertical-align: middle;\n",
       "    }\n",
       "\n",
       "    .dataframe tbody tr th {\n",
       "        vertical-align: top;\n",
       "    }\n",
       "\n",
       "    .dataframe thead th {\n",
       "        text-align: right;\n",
       "    }\n",
       "</style>\n",
       "<table border=\"1\" class=\"dataframe\">\n",
       "  <thead>\n",
       "    <tr style=\"text-align: right;\">\n",
       "      <th></th>\n",
       "      <th>Data as of</th>\n",
       "      <th>State</th>\n",
       "      <th>MMWR Week</th>\n",
       "      <th>End Week</th>\n",
       "      <th>Sex</th>\n",
       "      <th>Age Group</th>\n",
       "      <th>Total Deaths</th>\n",
       "      <th>COVID-19 Deaths</th>\n",
       "    </tr>\n",
       "  </thead>\n",
       "  <tbody>\n",
       "    <tr>\n",
       "      <th>0</th>\n",
       "      <td>2022-03-16</td>\n",
       "      <td>United States</td>\n",
       "      <td>1</td>\n",
       "      <td>01/04/2020</td>\n",
       "      <td>All Sex</td>\n",
       "      <td>All Ages</td>\n",
       "      <td>60164</td>\n",
       "      <td>0</td>\n",
       "    </tr>\n",
       "    <tr>\n",
       "      <th>1</th>\n",
       "      <td>2022-03-16</td>\n",
       "      <td>United States</td>\n",
       "      <td>1</td>\n",
       "      <td>01/04/2020</td>\n",
       "      <td>All Sex</td>\n",
       "      <td>Under 1 year</td>\n",
       "      <td>402</td>\n",
       "      <td>0</td>\n",
       "    </tr>\n",
       "    <tr>\n",
       "      <th>2</th>\n",
       "      <td>2022-03-16</td>\n",
       "      <td>United States</td>\n",
       "      <td>1</td>\n",
       "      <td>01/04/2020</td>\n",
       "      <td>All Sex</td>\n",
       "      <td>1-4 Years</td>\n",
       "      <td>79</td>\n",
       "      <td>0</td>\n",
       "    </tr>\n",
       "    <tr>\n",
       "      <th>3</th>\n",
       "      <td>2022-03-16</td>\n",
       "      <td>United States</td>\n",
       "      <td>1</td>\n",
       "      <td>01/04/2020</td>\n",
       "      <td>All Sex</td>\n",
       "      <td>5-14 Years</td>\n",
       "      <td>99</td>\n",
       "      <td>0</td>\n",
       "    </tr>\n",
       "    <tr>\n",
       "      <th>4</th>\n",
       "      <td>2022-03-16</td>\n",
       "      <td>United States</td>\n",
       "      <td>1</td>\n",
       "      <td>01/04/2020</td>\n",
       "      <td>All Sex</td>\n",
       "      <td>15-24 Years</td>\n",
       "      <td>605</td>\n",
       "      <td>0</td>\n",
       "    </tr>\n",
       "  </tbody>\n",
       "</table>\n",
       "</div>"
      ],
      "text/plain": [
       "  Data as of          State  MMWR Week    End Week      Sex     Age Group  \\\n",
       "0 2022-03-16  United States          1  01/04/2020  All Sex      All Ages   \n",
       "1 2022-03-16  United States          1  01/04/2020  All Sex  Under 1 year   \n",
       "2 2022-03-16  United States          1  01/04/2020  All Sex     1-4 Years   \n",
       "3 2022-03-16  United States          1  01/04/2020  All Sex    5-14 Years   \n",
       "4 2022-03-16  United States          1  01/04/2020  All Sex   15-24 Years   \n",
       "\n",
       "   Total Deaths  COVID-19 Deaths  \n",
       "0         60164                0  \n",
       "1           402                0  \n",
       "2            79                0  \n",
       "3            99                0  \n",
       "4           605                0  "
      ]
     },
     "execution_count": 3,
     "metadata": {},
     "output_type": "execute_result"
    }
   ],
   "source": [
    "by_Week_Sex_Age.head(5)"
   ]
  },
  {
   "cell_type": "code",
   "execution_count": 15,
   "id": "9656a444",
   "metadata": {
    "pycharm": {
     "name": "#%%\n"
    }
   },
   "outputs": [
    {
     "data": {
      "text/html": [
       "<div>\n",
       "<style scoped>\n",
       "    .dataframe tbody tr th:only-of-type {\n",
       "        vertical-align: middle;\n",
       "    }\n",
       "\n",
       "    .dataframe tbody tr th {\n",
       "        vertical-align: top;\n",
       "    }\n",
       "\n",
       "    .dataframe thead th {\n",
       "        text-align: right;\n",
       "    }\n",
       "</style>\n",
       "<table border=\"1\" class=\"dataframe\">\n",
       "  <thead>\n",
       "    <tr style=\"text-align: right;\">\n",
       "      <th></th>\n",
       "      <th>Data as of</th>\n",
       "      <th>State</th>\n",
       "      <th>MMWR Week</th>\n",
       "      <th>End Week</th>\n",
       "      <th>Sex</th>\n",
       "      <th>Age Group</th>\n",
       "      <th>Total Deaths</th>\n",
       "      <th>COVID-19 Deaths</th>\n",
       "    </tr>\n",
       "  </thead>\n",
       "  <tbody>\n",
       "    <tr>\n",
       "      <th>0</th>\n",
       "      <td>2022-03-16</td>\n",
       "      <td>United States</td>\n",
       "      <td>1</td>\n",
       "      <td>01/04/2020</td>\n",
       "      <td>All Sex</td>\n",
       "      <td>All Ages</td>\n",
       "      <td>60164</td>\n",
       "      <td>0</td>\n",
       "    </tr>\n",
       "    <tr>\n",
       "      <th>1</th>\n",
       "      <td>2022-03-16</td>\n",
       "      <td>United States</td>\n",
       "      <td>2</td>\n",
       "      <td>01/11/2020</td>\n",
       "      <td>All Sex</td>\n",
       "      <td>All Ages</td>\n",
       "      <td>60729</td>\n",
       "      <td>1</td>\n",
       "    </tr>\n",
       "    <tr>\n",
       "      <th>2</th>\n",
       "      <td>2022-03-16</td>\n",
       "      <td>United States</td>\n",
       "      <td>3</td>\n",
       "      <td>01/18/2020</td>\n",
       "      <td>All Sex</td>\n",
       "      <td>All Ages</td>\n",
       "      <td>59355</td>\n",
       "      <td>2</td>\n",
       "    </tr>\n",
       "    <tr>\n",
       "      <th>3</th>\n",
       "      <td>2022-03-16</td>\n",
       "      <td>United States</td>\n",
       "      <td>4</td>\n",
       "      <td>01/25/2020</td>\n",
       "      <td>All Sex</td>\n",
       "      <td>All Ages</td>\n",
       "      <td>59152</td>\n",
       "      <td>2</td>\n",
       "    </tr>\n",
       "    <tr>\n",
       "      <th>4</th>\n",
       "      <td>2022-03-16</td>\n",
       "      <td>United States</td>\n",
       "      <td>5</td>\n",
       "      <td>02/01/2020</td>\n",
       "      <td>All Sex</td>\n",
       "      <td>All Ages</td>\n",
       "      <td>58821</td>\n",
       "      <td>0</td>\n",
       "    </tr>\n",
       "  </tbody>\n",
       "</table>\n",
       "</div>"
      ],
      "text/plain": [
       "  Data as of          State  MMWR Week    End Week      Sex Age Group  \\\n",
       "0 2022-03-16  United States          1  01/04/2020  All Sex  All Ages   \n",
       "1 2022-03-16  United States          2  01/11/2020  All Sex  All Ages   \n",
       "2 2022-03-16  United States          3  01/18/2020  All Sex  All Ages   \n",
       "3 2022-03-16  United States          4  01/25/2020  All Sex  All Ages   \n",
       "4 2022-03-16  United States          5  02/01/2020  All Sex  All Ages   \n",
       "\n",
       "   Total Deaths  COVID-19 Deaths  \n",
       "0         60164                0  \n",
       "1         60729                1  \n",
       "2         59355                2  \n",
       "3         59152                2  \n",
       "4         58821                0  "
      ]
     },
     "execution_count": 15,
     "metadata": {},
     "output_type": "execute_result"
    }
   ],
   "source": [
    "All_sex_df = by_Week_Sex_Age.loc[(by_Week_Sex_Age['Sex'] == 'All Sex')&(by_Week_Sex_Age['Age Group'] == 'All Ages')]\n",
    "All_sex_df = All_sex_df.reset_index(drop = True)\n",
    "All_sex_df.head()"
   ]
  },
  {
   "cell_type": "code",
   "execution_count": 16,
   "id": "d19ebc0a",
   "metadata": {
    "pycharm": {
     "name": "#%%\n"
    }
   },
   "outputs": [
    {
     "data": {
      "text/html": [
       "<div>\n",
       "<style scoped>\n",
       "    .dataframe tbody tr th:only-of-type {\n",
       "        vertical-align: middle;\n",
       "    }\n",
       "\n",
       "    .dataframe tbody tr th {\n",
       "        vertical-align: top;\n",
       "    }\n",
       "\n",
       "    .dataframe thead th {\n",
       "        text-align: right;\n",
       "    }\n",
       "</style>\n",
       "<table border=\"1\" class=\"dataframe\">\n",
       "  <thead>\n",
       "    <tr style=\"text-align: right;\">\n",
       "      <th></th>\n",
       "      <th>Data as of</th>\n",
       "      <th>State</th>\n",
       "      <th>MMWR Week</th>\n",
       "      <th>End Week</th>\n",
       "      <th>Sex</th>\n",
       "      <th>Age Group</th>\n",
       "      <th>Total Deaths</th>\n",
       "      <th>COVID-19 Deaths</th>\n",
       "    </tr>\n",
       "  </thead>\n",
       "  <tbody>\n",
       "    <tr>\n",
       "      <th>0</th>\n",
       "      <td>2022-03-16</td>\n",
       "      <td>United States</td>\n",
       "      <td>1</td>\n",
       "      <td>01/04/2020</td>\n",
       "      <td>Male</td>\n",
       "      <td>All Ages</td>\n",
       "      <td>30925</td>\n",
       "      <td>0</td>\n",
       "    </tr>\n",
       "    <tr>\n",
       "      <th>1</th>\n",
       "      <td>2022-03-16</td>\n",
       "      <td>United States</td>\n",
       "      <td>2</td>\n",
       "      <td>01/11/2020</td>\n",
       "      <td>Male</td>\n",
       "      <td>All Ages</td>\n",
       "      <td>31122</td>\n",
       "      <td>0</td>\n",
       "    </tr>\n",
       "    <tr>\n",
       "      <th>2</th>\n",
       "      <td>2022-03-16</td>\n",
       "      <td>United States</td>\n",
       "      <td>3</td>\n",
       "      <td>01/18/2020</td>\n",
       "      <td>Male</td>\n",
       "      <td>All Ages</td>\n",
       "      <td>30332</td>\n",
       "      <td>1</td>\n",
       "    </tr>\n",
       "    <tr>\n",
       "      <th>3</th>\n",
       "      <td>2022-03-16</td>\n",
       "      <td>United States</td>\n",
       "      <td>4</td>\n",
       "      <td>01/25/2020</td>\n",
       "      <td>Male</td>\n",
       "      <td>All Ages</td>\n",
       "      <td>30594</td>\n",
       "      <td>1</td>\n",
       "    </tr>\n",
       "    <tr>\n",
       "      <th>4</th>\n",
       "      <td>2022-03-16</td>\n",
       "      <td>United States</td>\n",
       "      <td>5</td>\n",
       "      <td>02/01/2020</td>\n",
       "      <td>Male</td>\n",
       "      <td>All Ages</td>\n",
       "      <td>30196</td>\n",
       "      <td>0</td>\n",
       "    </tr>\n",
       "  </tbody>\n",
       "</table>\n",
       "</div>"
      ],
      "text/plain": [
       "  Data as of          State  MMWR Week    End Week   Sex Age Group  \\\n",
       "0 2022-03-16  United States          1  01/04/2020  Male  All Ages   \n",
       "1 2022-03-16  United States          2  01/11/2020  Male  All Ages   \n",
       "2 2022-03-16  United States          3  01/18/2020  Male  All Ages   \n",
       "3 2022-03-16  United States          4  01/25/2020  Male  All Ages   \n",
       "4 2022-03-16  United States          5  02/01/2020  Male  All Ages   \n",
       "\n",
       "   Total Deaths  COVID-19 Deaths  \n",
       "0         30925                0  \n",
       "1         31122                0  \n",
       "2         30332                1  \n",
       "3         30594                1  \n",
       "4         30196                0  "
      ]
     },
     "execution_count": 16,
     "metadata": {},
     "output_type": "execute_result"
    }
   ],
   "source": [
    "Male_df= by_Week_Sex_Age.loc[(by_Week_Sex_Age['Sex'] == 'Male')&(by_Week_Sex_Age['Age Group'] == 'All Ages')]\n",
    "Male_df = Male_df.reset_index(drop = True)\n",
    "Male_df.head()"
   ]
  },
  {
   "cell_type": "code",
   "execution_count": 17,
   "id": "0b1262c9",
   "metadata": {
    "pycharm": {
     "name": "#%%\n"
    }
   },
   "outputs": [
    {
     "data": {
      "text/html": [
       "<div>\n",
       "<style scoped>\n",
       "    .dataframe tbody tr th:only-of-type {\n",
       "        vertical-align: middle;\n",
       "    }\n",
       "\n",
       "    .dataframe tbody tr th {\n",
       "        vertical-align: top;\n",
       "    }\n",
       "\n",
       "    .dataframe thead th {\n",
       "        text-align: right;\n",
       "    }\n",
       "</style>\n",
       "<table border=\"1\" class=\"dataframe\">\n",
       "  <thead>\n",
       "    <tr style=\"text-align: right;\">\n",
       "      <th></th>\n",
       "      <th>Data as of</th>\n",
       "      <th>State</th>\n",
       "      <th>MMWR Week</th>\n",
       "      <th>End Week</th>\n",
       "      <th>Sex</th>\n",
       "      <th>Age Group</th>\n",
       "      <th>Total Deaths</th>\n",
       "      <th>COVID-19 Deaths</th>\n",
       "    </tr>\n",
       "  </thead>\n",
       "  <tbody>\n",
       "    <tr>\n",
       "      <th>0</th>\n",
       "      <td>2022-03-16</td>\n",
       "      <td>United States</td>\n",
       "      <td>1</td>\n",
       "      <td>01/04/2020</td>\n",
       "      <td>Female</td>\n",
       "      <td>All Ages</td>\n",
       "      <td>29239</td>\n",
       "      <td>0</td>\n",
       "    </tr>\n",
       "    <tr>\n",
       "      <th>1</th>\n",
       "      <td>2022-03-16</td>\n",
       "      <td>United States</td>\n",
       "      <td>2</td>\n",
       "      <td>01/11/2020</td>\n",
       "      <td>Female</td>\n",
       "      <td>All Ages</td>\n",
       "      <td>29607</td>\n",
       "      <td>1</td>\n",
       "    </tr>\n",
       "    <tr>\n",
       "      <th>2</th>\n",
       "      <td>2022-03-16</td>\n",
       "      <td>United States</td>\n",
       "      <td>3</td>\n",
       "      <td>01/18/2020</td>\n",
       "      <td>Female</td>\n",
       "      <td>All Ages</td>\n",
       "      <td>29023</td>\n",
       "      <td>1</td>\n",
       "    </tr>\n",
       "    <tr>\n",
       "      <th>3</th>\n",
       "      <td>2022-03-16</td>\n",
       "      <td>United States</td>\n",
       "      <td>4</td>\n",
       "      <td>01/25/2020</td>\n",
       "      <td>Female</td>\n",
       "      <td>All Ages</td>\n",
       "      <td>28558</td>\n",
       "      <td>1</td>\n",
       "    </tr>\n",
       "    <tr>\n",
       "      <th>4</th>\n",
       "      <td>2022-03-16</td>\n",
       "      <td>United States</td>\n",
       "      <td>5</td>\n",
       "      <td>02/01/2020</td>\n",
       "      <td>Female</td>\n",
       "      <td>All Ages</td>\n",
       "      <td>28625</td>\n",
       "      <td>0</td>\n",
       "    </tr>\n",
       "  </tbody>\n",
       "</table>\n",
       "</div>"
      ],
      "text/plain": [
       "  Data as of          State  MMWR Week    End Week     Sex Age Group  \\\n",
       "0 2022-03-16  United States          1  01/04/2020  Female  All Ages   \n",
       "1 2022-03-16  United States          2  01/11/2020  Female  All Ages   \n",
       "2 2022-03-16  United States          3  01/18/2020  Female  All Ages   \n",
       "3 2022-03-16  United States          4  01/25/2020  Female  All Ages   \n",
       "4 2022-03-16  United States          5  02/01/2020  Female  All Ages   \n",
       "\n",
       "   Total Deaths  COVID-19 Deaths  \n",
       "0         29239                0  \n",
       "1         29607                1  \n",
       "2         29023                1  \n",
       "3         28558                1  \n",
       "4         28625                0  "
      ]
     },
     "execution_count": 17,
     "metadata": {},
     "output_type": "execute_result"
    }
   ],
   "source": [
    "Female_df= by_Week_Sex_Age.loc[(by_Week_Sex_Age['Sex'] == 'Female')&(by_Week_Sex_Age['Age Group'] == 'All Ages')]\n",
    "Female_df = Female_df.reset_index(drop = True)\n",
    "Female_df.head()"
   ]
  },
  {
   "cell_type": "code",
   "execution_count": 27,
   "id": "e0432353",
   "metadata": {
    "pycharm": {
     "name": "#%%\n"
    }
   },
   "outputs": [],
   "source": [
    "Combined_df_for_sex = pd.DataFrame()\n",
    "Combined_df_for_sex['Date'] = All_sex_df['End Week']\n",
    "Combined_df_for_sex['Male Deaths'] = Male_df['COVID-19 Deaths']\n",
    "Combined_df_for_sex['Female Deaths'] = Female_df['COVID-19 Deaths']\n",
    "Combined_df_for_sex['All Sex Deaths'] = All_sex_df ['COVID-19 Deaths']"
   ]
  },
  {
   "cell_type": "code",
   "execution_count": 28,
   "id": "d3b47976",
   "metadata": {
    "pycharm": {
     "name": "#%%\n"
    }
   },
   "outputs": [
    {
     "data": {
      "text/html": [
       "<div>\n",
       "<style scoped>\n",
       "    .dataframe tbody tr th:only-of-type {\n",
       "        vertical-align: middle;\n",
       "    }\n",
       "\n",
       "    .dataframe tbody tr th {\n",
       "        vertical-align: top;\n",
       "    }\n",
       "\n",
       "    .dataframe thead th {\n",
       "        text-align: right;\n",
       "    }\n",
       "</style>\n",
       "<table border=\"1\" class=\"dataframe\">\n",
       "  <thead>\n",
       "    <tr style=\"text-align: right;\">\n",
       "      <th></th>\n",
       "      <th>Date</th>\n",
       "      <th>Male Deaths</th>\n",
       "      <th>Female Deaths</th>\n",
       "      <th>All Sex Deaths</th>\n",
       "    </tr>\n",
       "  </thead>\n",
       "  <tbody>\n",
       "    <tr>\n",
       "      <th>0</th>\n",
       "      <td>01/04/2020</td>\n",
       "      <td>0</td>\n",
       "      <td>0</td>\n",
       "      <td>0</td>\n",
       "    </tr>\n",
       "    <tr>\n",
       "      <th>1</th>\n",
       "      <td>01/11/2020</td>\n",
       "      <td>0</td>\n",
       "      <td>1</td>\n",
       "      <td>1</td>\n",
       "    </tr>\n",
       "    <tr>\n",
       "      <th>2</th>\n",
       "      <td>01/18/2020</td>\n",
       "      <td>1</td>\n",
       "      <td>1</td>\n",
       "      <td>2</td>\n",
       "    </tr>\n",
       "    <tr>\n",
       "      <th>3</th>\n",
       "      <td>01/25/2020</td>\n",
       "      <td>1</td>\n",
       "      <td>1</td>\n",
       "      <td>2</td>\n",
       "    </tr>\n",
       "    <tr>\n",
       "      <th>4</th>\n",
       "      <td>02/01/2020</td>\n",
       "      <td>0</td>\n",
       "      <td>0</td>\n",
       "      <td>0</td>\n",
       "    </tr>\n",
       "  </tbody>\n",
       "</table>\n",
       "</div>"
      ],
      "text/plain": [
       "         Date  Male Deaths  Female Deaths  All Sex Deaths\n",
       "0  01/04/2020            0              0               0\n",
       "1  01/11/2020            0              1               1\n",
       "2  01/18/2020            1              1               2\n",
       "3  01/25/2020            1              1               2\n",
       "4  02/01/2020            0              0               0"
      ]
     },
     "execution_count": 28,
     "metadata": {},
     "output_type": "execute_result"
    }
   ],
   "source": [
    "Combined_df_for_sex.head()"
   ]
  },
  {
   "cell_type": "code",
   "execution_count": 29,
   "id": "e927de0e",
   "metadata": {
    "pycharm": {
     "name": "#%%\n"
    }
   },
   "outputs": [
    {
     "data": {
      "text/plain": [
       "(115, 4)"
      ]
     },
     "execution_count": 29,
     "metadata": {},
     "output_type": "execute_result"
    }
   ],
   "source": [
    "Combined_df_for_sex.shape"
   ]
  },
  {
   "cell_type": "code",
   "execution_count": 32,
   "id": "31252314",
   "metadata": {
    "pycharm": {
     "name": "#%%\n"
    }
   },
   "outputs": [
    {
     "data": {
      "application/vnd.plotly.v1+json": {
       "config": {
        "plotlyServerURL": "https://plot.ly"
       },
       "data": [
        {
         "hovertemplate": "variable=Male Deaths<br>Date=%{x}<br>value=%{y}<extra></extra>",
         "legendgroup": "Male Deaths",
         "line": {
          "color": "#636efa",
          "dash": "solid"
         },
         "marker": {
          "symbol": "circle"
         },
         "mode": "lines",
         "name": "Male Deaths",
         "orientation": "v",
         "showlegend": true,
         "type": "scatter",
         "x": [
          "01/04/2020",
          "01/11/2020",
          "01/18/2020",
          "01/25/2020",
          "02/01/2020",
          "02/08/2020",
          "02/15/2020",
          "02/22/2020",
          "02/29/2020",
          "03/07/2020",
          "03/14/2020",
          "03/21/2020",
          "03/28/2020",
          "04/04/2020",
          "04/11/2020",
          "04/18/2020",
          "04/25/2020",
          "05/02/2020",
          "05/09/2020",
          "05/16/2020",
          "05/23/2020",
          "05/30/2020",
          "06/06/2020",
          "06/13/2020",
          "06/20/2020",
          "06/27/2020",
          "07/04/2020",
          "07/11/2020",
          "07/18/2020",
          "07/25/2020",
          "08/01/2020",
          "08/08/2020",
          "08/15/2020",
          "08/22/2020",
          "08/29/2020",
          "09/05/2020",
          "09/12/2020",
          "09/19/2020",
          "09/26/2020",
          "10/03/2020",
          "10/10/2020",
          "10/17/2020",
          "10/24/2020",
          "10/31/2020",
          "11/07/2020",
          "11/14/2020",
          "11/21/2020",
          "11/28/2020",
          "12/05/2020",
          "12/12/2020",
          "12/19/2020",
          "12/26/2020",
          "01/02/2021",
          "01/09/2021",
          "01/16/2021",
          "01/23/2021",
          "01/30/2021",
          "02/06/2021",
          "02/13/2021",
          "02/20/2021",
          "02/27/2021",
          "03/06/2021",
          "03/13/2021",
          "03/20/2021",
          "03/27/2021",
          "04/03/2021",
          "04/10/2021",
          "04/17/2021",
          "04/24/2021",
          "05/01/2021",
          "05/08/2021",
          "05/15/2021",
          "05/22/2021",
          "05/29/2021",
          "06/05/2021",
          "06/12/2021",
          "06/19/2021",
          "06/26/2021",
          "07/03/2021",
          "07/10/2021",
          "07/17/2021",
          "07/24/2021",
          "07/31/2021",
          "08/07/2021",
          "08/14/2021",
          "08/21/2021",
          "08/28/2021",
          "09/04/2021",
          "09/11/2021",
          "09/18/2021",
          "09/25/2021",
          "10/02/2021",
          "10/09/2021",
          "10/16/2021",
          "10/23/2021",
          "10/30/2021",
          "11/06/2021",
          "11/13/2021",
          "11/20/2021",
          "11/27/2021",
          "12/04/2021",
          "12/11/2021",
          "12/18/2021",
          "12/25/2021",
          "01/01/2022",
          "01/08/2022",
          "01/15/2022",
          "01/22/2022",
          "01/29/2022",
          "02/05/2022",
          "02/12/2022",
          "02/19/2022",
          "02/26/2022",
          "03/05/2022",
          "03/12/2022"
         ],
         "xaxis": "x",
         "y": [
          0,
          0,
          1,
          1,
          0,
          2,
          3,
          1,
          6,
          22,
          29,
          367,
          1954,
          6099,
          9297,
          9344,
          8175,
          6811,
          5811,
          4524,
          3720,
          3158,
          2570,
          2208,
          1997,
          2029,
          2524,
          3262,
          4045,
          4573,
          4682,
          4385,
          4009,
          3423,
          3080,
          2663,
          2513,
          2286,
          2360,
          2301,
          2615,
          2754,
          3271,
          3817,
          4816,
          5877,
          7314,
          8611,
          10070,
          11335,
          12111,
          12742,
          13755,
          14347,
          14282,
          13102,
          11378,
          9792,
          7689,
          6203,
          4821,
          3831,
          3194,
          2780,
          2498,
          2316,
          2392,
          2548,
          2518,
          2287,
          2197,
          1969,
          1808,
          1499,
          1257,
          1109,
          943,
          926,
          828,
          875,
          1094,
          1565,
          2368,
          3713,
          5252,
          6911,
          8040,
          8711,
          8692,
          8605,
          8032,
          7161,
          6253,
          5499,
          5075,
          4396,
          4162,
          3993,
          4090,
          4485,
          4902,
          5472,
          5672,
          5840,
          6271,
          8032,
          10128,
          11122,
          10864,
          9409,
          7277,
          4648,
          2862,
          1674,
          571
         ],
         "yaxis": "y"
        },
        {
         "hovertemplate": "variable=Female Deaths<br>Date=%{x}<br>value=%{y}<extra></extra>",
         "legendgroup": "Female Deaths",
         "line": {
          "color": "#EF553B",
          "dash": "solid"
         },
         "marker": {
          "symbol": "circle"
         },
         "mode": "lines",
         "name": "Female Deaths",
         "orientation": "v",
         "showlegend": true,
         "type": "scatter",
         "x": [
          "01/04/2020",
          "01/11/2020",
          "01/18/2020",
          "01/25/2020",
          "02/01/2020",
          "02/08/2020",
          "02/15/2020",
          "02/22/2020",
          "02/29/2020",
          "03/07/2020",
          "03/14/2020",
          "03/21/2020",
          "03/28/2020",
          "04/04/2020",
          "04/11/2020",
          "04/18/2020",
          "04/25/2020",
          "05/02/2020",
          "05/09/2020",
          "05/16/2020",
          "05/23/2020",
          "05/30/2020",
          "06/06/2020",
          "06/13/2020",
          "06/20/2020",
          "06/27/2020",
          "07/04/2020",
          "07/11/2020",
          "07/18/2020",
          "07/25/2020",
          "08/01/2020",
          "08/08/2020",
          "08/15/2020",
          "08/22/2020",
          "08/29/2020",
          "09/05/2020",
          "09/12/2020",
          "09/19/2020",
          "09/26/2020",
          "10/03/2020",
          "10/10/2020",
          "10/17/2020",
          "10/24/2020",
          "10/31/2020",
          "11/07/2020",
          "11/14/2020",
          "11/21/2020",
          "11/28/2020",
          "12/05/2020",
          "12/12/2020",
          "12/19/2020",
          "12/26/2020",
          "01/02/2021",
          "01/09/2021",
          "01/16/2021",
          "01/23/2021",
          "01/30/2021",
          "02/06/2021",
          "02/13/2021",
          "02/20/2021",
          "02/27/2021",
          "03/06/2021",
          "03/13/2021",
          "03/20/2021",
          "03/27/2021",
          "04/03/2021",
          "04/10/2021",
          "04/17/2021",
          "04/24/2021",
          "05/01/2021",
          "05/08/2021",
          "05/15/2021",
          "05/22/2021",
          "05/29/2021",
          "06/05/2021",
          "06/12/2021",
          "06/19/2021",
          "06/26/2021",
          "07/03/2021",
          "07/10/2021",
          "07/17/2021",
          "07/24/2021",
          "07/31/2021",
          "08/07/2021",
          "08/14/2021",
          "08/21/2021",
          "08/28/2021",
          "09/04/2021",
          "09/11/2021",
          "09/18/2021",
          "09/25/2021",
          "10/02/2021",
          "10/09/2021",
          "10/16/2021",
          "10/23/2021",
          "10/30/2021",
          "11/06/2021",
          "11/13/2021",
          "11/20/2021",
          "11/27/2021",
          "12/04/2021",
          "12/11/2021",
          "12/18/2021",
          "12/25/2021",
          "01/01/2022",
          "01/08/2022",
          "01/15/2022",
          "01/22/2022",
          "01/29/2022",
          "02/05/2022",
          "02/12/2022",
          "02/19/2022",
          "02/26/2022",
          "03/05/2022",
          "03/12/2022"
         ],
         "xaxis": "x",
         "y": [
          0,
          1,
          1,
          1,
          0,
          2,
          2,
          5,
          3,
          16,
          31,
          221,
          1263,
          4034,
          7030,
          7861,
          7376,
          6405,
          5426,
          4713,
          3527,
          3014,
          2488,
          2024,
          1854,
          1815,
          2028,
          2523,
          3152,
          3674,
          3625,
          3484,
          3253,
          2965,
          2673,
          2356,
          2114,
          1993,
          1941,
          1943,
          2207,
          2447,
          2725,
          3210,
          3946,
          4776,
          6045,
          7015,
          8499,
          9590,
          10218,
          10643,
          11126,
          11660,
          11445,
          10610,
          8968,
          7255,
          5847,
          4620,
          3841,
          2895,
          2531,
          2123,
          1952,
          1885,
          1922,
          1901,
          2084,
          1881,
          1807,
          1722,
          1429,
          1273,
          1092,
          928,
          835,
          710,
          715,
          765,
          896,
          1197,
          1750,
          2773,
          4136,
          5261,
          6124,
          6755,
          6695,
          6582,
          6255,
          5626,
          4835,
          4291,
          3806,
          3521,
          3044,
          3107,
          3162,
          3312,
          3784,
          4123,
          4391,
          4408,
          5082,
          6400,
          7980,
          8860,
          8533,
          7386,
          5567,
          3821,
          2282,
          1322,
          439
         ],
         "yaxis": "y"
        },
        {
         "hovertemplate": "variable=All Sex Deaths<br>Date=%{x}<br>value=%{y}<extra></extra>",
         "legendgroup": "All Sex Deaths",
         "line": {
          "color": "#00cc96",
          "dash": "solid"
         },
         "marker": {
          "symbol": "circle"
         },
         "mode": "lines",
         "name": "All Sex Deaths",
         "orientation": "v",
         "showlegend": true,
         "type": "scatter",
         "x": [
          "01/04/2020",
          "01/11/2020",
          "01/18/2020",
          "01/25/2020",
          "02/01/2020",
          "02/08/2020",
          "02/15/2020",
          "02/22/2020",
          "02/29/2020",
          "03/07/2020",
          "03/14/2020",
          "03/21/2020",
          "03/28/2020",
          "04/04/2020",
          "04/11/2020",
          "04/18/2020",
          "04/25/2020",
          "05/02/2020",
          "05/09/2020",
          "05/16/2020",
          "05/23/2020",
          "05/30/2020",
          "06/06/2020",
          "06/13/2020",
          "06/20/2020",
          "06/27/2020",
          "07/04/2020",
          "07/11/2020",
          "07/18/2020",
          "07/25/2020",
          "08/01/2020",
          "08/08/2020",
          "08/15/2020",
          "08/22/2020",
          "08/29/2020",
          "09/05/2020",
          "09/12/2020",
          "09/19/2020",
          "09/26/2020",
          "10/03/2020",
          "10/10/2020",
          "10/17/2020",
          "10/24/2020",
          "10/31/2020",
          "11/07/2020",
          "11/14/2020",
          "11/21/2020",
          "11/28/2020",
          "12/05/2020",
          "12/12/2020",
          "12/19/2020",
          "12/26/2020",
          "01/02/2021",
          "01/09/2021",
          "01/16/2021",
          "01/23/2021",
          "01/30/2021",
          "02/06/2021",
          "02/13/2021",
          "02/20/2021",
          "02/27/2021",
          "03/06/2021",
          "03/13/2021",
          "03/20/2021",
          "03/27/2021",
          "04/03/2021",
          "04/10/2021",
          "04/17/2021",
          "04/24/2021",
          "05/01/2021",
          "05/08/2021",
          "05/15/2021",
          "05/22/2021",
          "05/29/2021",
          "06/05/2021",
          "06/12/2021",
          "06/19/2021",
          "06/26/2021",
          "07/03/2021",
          "07/10/2021",
          "07/17/2021",
          "07/24/2021",
          "07/31/2021",
          "08/07/2021",
          "08/14/2021",
          "08/21/2021",
          "08/28/2021",
          "09/04/2021",
          "09/11/2021",
          "09/18/2021",
          "09/25/2021",
          "10/02/2021",
          "10/09/2021",
          "10/16/2021",
          "10/23/2021",
          "10/30/2021",
          "11/06/2021",
          "11/13/2021",
          "11/20/2021",
          "11/27/2021",
          "12/04/2021",
          "12/11/2021",
          "12/18/2021",
          "12/25/2021",
          "01/01/2022",
          "01/08/2022",
          "01/15/2022",
          "01/22/2022",
          "01/29/2022",
          "02/05/2022",
          "02/12/2022",
          "02/19/2022",
          "02/26/2022",
          "03/05/2022",
          "03/12/2022"
         ],
         "xaxis": "x",
         "y": [
          0,
          1,
          2,
          2,
          0,
          4,
          5,
          6,
          9,
          38,
          60,
          588,
          3217,
          10133,
          16327,
          17205,
          15551,
          13216,
          11237,
          9237,
          7247,
          6172,
          5058,
          4232,
          3851,
          3844,
          4552,
          5785,
          7197,
          8247,
          8307,
          7869,
          7262,
          6388,
          5753,
          5019,
          4627,
          4279,
          4301,
          4244,
          4822,
          5201,
          5996,
          7027,
          8762,
          10653,
          13359,
          15626,
          18569,
          20925,
          22329,
          23385,
          24881,
          26007,
          25727,
          23712,
          20346,
          17047,
          13536,
          10823,
          8662,
          6726,
          5725,
          4903,
          4450,
          4201,
          4314,
          4449,
          4602,
          4168,
          4004,
          3691,
          3237,
          2772,
          2349,
          2037,
          1778,
          1636,
          1543,
          1640,
          1990,
          2762,
          4118,
          6486,
          9388,
          12172,
          14164,
          15466,
          15387,
          15187,
          14287,
          12787,
          11088,
          9790,
          8881,
          7917,
          7206,
          7100,
          7252,
          7797,
          8686,
          9595,
          10063,
          10248,
          11353,
          14432,
          18108,
          19982,
          19397,
          16795,
          12844,
          8469,
          5144,
          2996,
          1010
         ],
         "yaxis": "y"
        }
       ],
       "layout": {
        "legend": {
         "title": {
          "text": "variable"
         },
         "tracegroupgap": 0
        },
        "margin": {
         "t": 60
        },
        "template": {
         "data": {
          "bar": [
           {
            "error_x": {
             "color": "#2a3f5f"
            },
            "error_y": {
             "color": "#2a3f5f"
            },
            "marker": {
             "line": {
              "color": "#E5ECF6",
              "width": 0.5
             },
             "pattern": {
              "fillmode": "overlay",
              "size": 10,
              "solidity": 0.2
             }
            },
            "type": "bar"
           }
          ],
          "barpolar": [
           {
            "marker": {
             "line": {
              "color": "#E5ECF6",
              "width": 0.5
             },
             "pattern": {
              "fillmode": "overlay",
              "size": 10,
              "solidity": 0.2
             }
            },
            "type": "barpolar"
           }
          ],
          "carpet": [
           {
            "aaxis": {
             "endlinecolor": "#2a3f5f",
             "gridcolor": "white",
             "linecolor": "white",
             "minorgridcolor": "white",
             "startlinecolor": "#2a3f5f"
            },
            "baxis": {
             "endlinecolor": "#2a3f5f",
             "gridcolor": "white",
             "linecolor": "white",
             "minorgridcolor": "white",
             "startlinecolor": "#2a3f5f"
            },
            "type": "carpet"
           }
          ],
          "choropleth": [
           {
            "colorbar": {
             "outlinewidth": 0,
             "ticks": ""
            },
            "type": "choropleth"
           }
          ],
          "contour": [
           {
            "colorbar": {
             "outlinewidth": 0,
             "ticks": ""
            },
            "colorscale": [
             [
              0,
              "#0d0887"
             ],
             [
              0.1111111111111111,
              "#46039f"
             ],
             [
              0.2222222222222222,
              "#7201a8"
             ],
             [
              0.3333333333333333,
              "#9c179e"
             ],
             [
              0.4444444444444444,
              "#bd3786"
             ],
             [
              0.5555555555555556,
              "#d8576b"
             ],
             [
              0.6666666666666666,
              "#ed7953"
             ],
             [
              0.7777777777777778,
              "#fb9f3a"
             ],
             [
              0.8888888888888888,
              "#fdca26"
             ],
             [
              1,
              "#f0f921"
             ]
            ],
            "type": "contour"
           }
          ],
          "contourcarpet": [
           {
            "colorbar": {
             "outlinewidth": 0,
             "ticks": ""
            },
            "type": "contourcarpet"
           }
          ],
          "heatmap": [
           {
            "colorbar": {
             "outlinewidth": 0,
             "ticks": ""
            },
            "colorscale": [
             [
              0,
              "#0d0887"
             ],
             [
              0.1111111111111111,
              "#46039f"
             ],
             [
              0.2222222222222222,
              "#7201a8"
             ],
             [
              0.3333333333333333,
              "#9c179e"
             ],
             [
              0.4444444444444444,
              "#bd3786"
             ],
             [
              0.5555555555555556,
              "#d8576b"
             ],
             [
              0.6666666666666666,
              "#ed7953"
             ],
             [
              0.7777777777777778,
              "#fb9f3a"
             ],
             [
              0.8888888888888888,
              "#fdca26"
             ],
             [
              1,
              "#f0f921"
             ]
            ],
            "type": "heatmap"
           }
          ],
          "heatmapgl": [
           {
            "colorbar": {
             "outlinewidth": 0,
             "ticks": ""
            },
            "colorscale": [
             [
              0,
              "#0d0887"
             ],
             [
              0.1111111111111111,
              "#46039f"
             ],
             [
              0.2222222222222222,
              "#7201a8"
             ],
             [
              0.3333333333333333,
              "#9c179e"
             ],
             [
              0.4444444444444444,
              "#bd3786"
             ],
             [
              0.5555555555555556,
              "#d8576b"
             ],
             [
              0.6666666666666666,
              "#ed7953"
             ],
             [
              0.7777777777777778,
              "#fb9f3a"
             ],
             [
              0.8888888888888888,
              "#fdca26"
             ],
             [
              1,
              "#f0f921"
             ]
            ],
            "type": "heatmapgl"
           }
          ],
          "histogram": [
           {
            "marker": {
             "pattern": {
              "fillmode": "overlay",
              "size": 10,
              "solidity": 0.2
             }
            },
            "type": "histogram"
           }
          ],
          "histogram2d": [
           {
            "colorbar": {
             "outlinewidth": 0,
             "ticks": ""
            },
            "colorscale": [
             [
              0,
              "#0d0887"
             ],
             [
              0.1111111111111111,
              "#46039f"
             ],
             [
              0.2222222222222222,
              "#7201a8"
             ],
             [
              0.3333333333333333,
              "#9c179e"
             ],
             [
              0.4444444444444444,
              "#bd3786"
             ],
             [
              0.5555555555555556,
              "#d8576b"
             ],
             [
              0.6666666666666666,
              "#ed7953"
             ],
             [
              0.7777777777777778,
              "#fb9f3a"
             ],
             [
              0.8888888888888888,
              "#fdca26"
             ],
             [
              1,
              "#f0f921"
             ]
            ],
            "type": "histogram2d"
           }
          ],
          "histogram2dcontour": [
           {
            "colorbar": {
             "outlinewidth": 0,
             "ticks": ""
            },
            "colorscale": [
             [
              0,
              "#0d0887"
             ],
             [
              0.1111111111111111,
              "#46039f"
             ],
             [
              0.2222222222222222,
              "#7201a8"
             ],
             [
              0.3333333333333333,
              "#9c179e"
             ],
             [
              0.4444444444444444,
              "#bd3786"
             ],
             [
              0.5555555555555556,
              "#d8576b"
             ],
             [
              0.6666666666666666,
              "#ed7953"
             ],
             [
              0.7777777777777778,
              "#fb9f3a"
             ],
             [
              0.8888888888888888,
              "#fdca26"
             ],
             [
              1,
              "#f0f921"
             ]
            ],
            "type": "histogram2dcontour"
           }
          ],
          "mesh3d": [
           {
            "colorbar": {
             "outlinewidth": 0,
             "ticks": ""
            },
            "type": "mesh3d"
           }
          ],
          "parcoords": [
           {
            "line": {
             "colorbar": {
              "outlinewidth": 0,
              "ticks": ""
             }
            },
            "type": "parcoords"
           }
          ],
          "pie": [
           {
            "automargin": true,
            "type": "pie"
           }
          ],
          "scatter": [
           {
            "marker": {
             "colorbar": {
              "outlinewidth": 0,
              "ticks": ""
             }
            },
            "type": "scatter"
           }
          ],
          "scatter3d": [
           {
            "line": {
             "colorbar": {
              "outlinewidth": 0,
              "ticks": ""
             }
            },
            "marker": {
             "colorbar": {
              "outlinewidth": 0,
              "ticks": ""
             }
            },
            "type": "scatter3d"
           }
          ],
          "scattercarpet": [
           {
            "marker": {
             "colorbar": {
              "outlinewidth": 0,
              "ticks": ""
             }
            },
            "type": "scattercarpet"
           }
          ],
          "scattergeo": [
           {
            "marker": {
             "colorbar": {
              "outlinewidth": 0,
              "ticks": ""
             }
            },
            "type": "scattergeo"
           }
          ],
          "scattergl": [
           {
            "marker": {
             "colorbar": {
              "outlinewidth": 0,
              "ticks": ""
             }
            },
            "type": "scattergl"
           }
          ],
          "scattermapbox": [
           {
            "marker": {
             "colorbar": {
              "outlinewidth": 0,
              "ticks": ""
             }
            },
            "type": "scattermapbox"
           }
          ],
          "scatterpolar": [
           {
            "marker": {
             "colorbar": {
              "outlinewidth": 0,
              "ticks": ""
             }
            },
            "type": "scatterpolar"
           }
          ],
          "scatterpolargl": [
           {
            "marker": {
             "colorbar": {
              "outlinewidth": 0,
              "ticks": ""
             }
            },
            "type": "scatterpolargl"
           }
          ],
          "scatterternary": [
           {
            "marker": {
             "colorbar": {
              "outlinewidth": 0,
              "ticks": ""
             }
            },
            "type": "scatterternary"
           }
          ],
          "surface": [
           {
            "colorbar": {
             "outlinewidth": 0,
             "ticks": ""
            },
            "colorscale": [
             [
              0,
              "#0d0887"
             ],
             [
              0.1111111111111111,
              "#46039f"
             ],
             [
              0.2222222222222222,
              "#7201a8"
             ],
             [
              0.3333333333333333,
              "#9c179e"
             ],
             [
              0.4444444444444444,
              "#bd3786"
             ],
             [
              0.5555555555555556,
              "#d8576b"
             ],
             [
              0.6666666666666666,
              "#ed7953"
             ],
             [
              0.7777777777777778,
              "#fb9f3a"
             ],
             [
              0.8888888888888888,
              "#fdca26"
             ],
             [
              1,
              "#f0f921"
             ]
            ],
            "type": "surface"
           }
          ],
          "table": [
           {
            "cells": {
             "fill": {
              "color": "#EBF0F8"
             },
             "line": {
              "color": "white"
             }
            },
            "header": {
             "fill": {
              "color": "#C8D4E3"
             },
             "line": {
              "color": "white"
             }
            },
            "type": "table"
           }
          ]
         },
         "layout": {
          "annotationdefaults": {
           "arrowcolor": "#2a3f5f",
           "arrowhead": 0,
           "arrowwidth": 1
          },
          "autotypenumbers": "strict",
          "coloraxis": {
           "colorbar": {
            "outlinewidth": 0,
            "ticks": ""
           }
          },
          "colorscale": {
           "diverging": [
            [
             0,
             "#8e0152"
            ],
            [
             0.1,
             "#c51b7d"
            ],
            [
             0.2,
             "#de77ae"
            ],
            [
             0.3,
             "#f1b6da"
            ],
            [
             0.4,
             "#fde0ef"
            ],
            [
             0.5,
             "#f7f7f7"
            ],
            [
             0.6,
             "#e6f5d0"
            ],
            [
             0.7,
             "#b8e186"
            ],
            [
             0.8,
             "#7fbc41"
            ],
            [
             0.9,
             "#4d9221"
            ],
            [
             1,
             "#276419"
            ]
           ],
           "sequential": [
            [
             0,
             "#0d0887"
            ],
            [
             0.1111111111111111,
             "#46039f"
            ],
            [
             0.2222222222222222,
             "#7201a8"
            ],
            [
             0.3333333333333333,
             "#9c179e"
            ],
            [
             0.4444444444444444,
             "#bd3786"
            ],
            [
             0.5555555555555556,
             "#d8576b"
            ],
            [
             0.6666666666666666,
             "#ed7953"
            ],
            [
             0.7777777777777778,
             "#fb9f3a"
            ],
            [
             0.8888888888888888,
             "#fdca26"
            ],
            [
             1,
             "#f0f921"
            ]
           ],
           "sequentialminus": [
            [
             0,
             "#0d0887"
            ],
            [
             0.1111111111111111,
             "#46039f"
            ],
            [
             0.2222222222222222,
             "#7201a8"
            ],
            [
             0.3333333333333333,
             "#9c179e"
            ],
            [
             0.4444444444444444,
             "#bd3786"
            ],
            [
             0.5555555555555556,
             "#d8576b"
            ],
            [
             0.6666666666666666,
             "#ed7953"
            ],
            [
             0.7777777777777778,
             "#fb9f3a"
            ],
            [
             0.8888888888888888,
             "#fdca26"
            ],
            [
             1,
             "#f0f921"
            ]
           ]
          },
          "colorway": [
           "#636efa",
           "#EF553B",
           "#00cc96",
           "#ab63fa",
           "#FFA15A",
           "#19d3f3",
           "#FF6692",
           "#B6E880",
           "#FF97FF",
           "#FECB52"
          ],
          "font": {
           "color": "#2a3f5f"
          },
          "geo": {
           "bgcolor": "white",
           "lakecolor": "white",
           "landcolor": "#E5ECF6",
           "showlakes": true,
           "showland": true,
           "subunitcolor": "white"
          },
          "hoverlabel": {
           "align": "left"
          },
          "hovermode": "closest",
          "mapbox": {
           "style": "light"
          },
          "paper_bgcolor": "white",
          "plot_bgcolor": "#E5ECF6",
          "polar": {
           "angularaxis": {
            "gridcolor": "white",
            "linecolor": "white",
            "ticks": ""
           },
           "bgcolor": "#E5ECF6",
           "radialaxis": {
            "gridcolor": "white",
            "linecolor": "white",
            "ticks": ""
           }
          },
          "scene": {
           "xaxis": {
            "backgroundcolor": "#E5ECF6",
            "gridcolor": "white",
            "gridwidth": 2,
            "linecolor": "white",
            "showbackground": true,
            "ticks": "",
            "zerolinecolor": "white"
           },
           "yaxis": {
            "backgroundcolor": "#E5ECF6",
            "gridcolor": "white",
            "gridwidth": 2,
            "linecolor": "white",
            "showbackground": true,
            "ticks": "",
            "zerolinecolor": "white"
           },
           "zaxis": {
            "backgroundcolor": "#E5ECF6",
            "gridcolor": "white",
            "gridwidth": 2,
            "linecolor": "white",
            "showbackground": true,
            "ticks": "",
            "zerolinecolor": "white"
           }
          },
          "shapedefaults": {
           "line": {
            "color": "#2a3f5f"
           }
          },
          "ternary": {
           "aaxis": {
            "gridcolor": "white",
            "linecolor": "white",
            "ticks": ""
           },
           "baxis": {
            "gridcolor": "white",
            "linecolor": "white",
            "ticks": ""
           },
           "bgcolor": "#E5ECF6",
           "caxis": {
            "gridcolor": "white",
            "linecolor": "white",
            "ticks": ""
           }
          },
          "title": {
           "x": 0.05
          },
          "xaxis": {
           "automargin": true,
           "gridcolor": "white",
           "linecolor": "white",
           "ticks": "",
           "title": {
            "standoff": 15
           },
           "zerolinecolor": "white",
           "zerolinewidth": 2
          },
          "yaxis": {
           "automargin": true,
           "gridcolor": "white",
           "linecolor": "white",
           "ticks": "",
           "title": {
            "standoff": 15
           },
           "zerolinecolor": "white",
           "zerolinewidth": 2
          }
         }
        },
        "xaxis": {
         "anchor": "y",
         "domain": [
          0,
          1
         ],
         "title": {
          "text": "Date"
         }
        },
        "yaxis": {
         "anchor": "x",
         "domain": [
          0,
          1
         ],
         "title": {
          "text": "value"
         }
        }
       }
      },
      "text/html": [
       "<div>                            <div id=\"8b658b0f-8c2d-4834-bac5-66f1fed14272\" class=\"plotly-graph-div\" style=\"height:525px; width:100%;\"></div>            <script type=\"text/javascript\">                require([\"plotly\"], function(Plotly) {                    window.PLOTLYENV=window.PLOTLYENV || {};                                    if (document.getElementById(\"8b658b0f-8c2d-4834-bac5-66f1fed14272\")) {                    Plotly.newPlot(                        \"8b658b0f-8c2d-4834-bac5-66f1fed14272\",                        [{\"hovertemplate\":\"variable=Male Deaths<br>Date=%{x}<br>value=%{y}<extra></extra>\",\"legendgroup\":\"Male Deaths\",\"line\":{\"color\":\"#636efa\",\"dash\":\"solid\"},\"marker\":{\"symbol\":\"circle\"},\"mode\":\"lines\",\"name\":\"Male Deaths\",\"orientation\":\"v\",\"showlegend\":true,\"x\":[\"01/04/2020\",\"01/11/2020\",\"01/18/2020\",\"01/25/2020\",\"02/01/2020\",\"02/08/2020\",\"02/15/2020\",\"02/22/2020\",\"02/29/2020\",\"03/07/2020\",\"03/14/2020\",\"03/21/2020\",\"03/28/2020\",\"04/04/2020\",\"04/11/2020\",\"04/18/2020\",\"04/25/2020\",\"05/02/2020\",\"05/09/2020\",\"05/16/2020\",\"05/23/2020\",\"05/30/2020\",\"06/06/2020\",\"06/13/2020\",\"06/20/2020\",\"06/27/2020\",\"07/04/2020\",\"07/11/2020\",\"07/18/2020\",\"07/25/2020\",\"08/01/2020\",\"08/08/2020\",\"08/15/2020\",\"08/22/2020\",\"08/29/2020\",\"09/05/2020\",\"09/12/2020\",\"09/19/2020\",\"09/26/2020\",\"10/03/2020\",\"10/10/2020\",\"10/17/2020\",\"10/24/2020\",\"10/31/2020\",\"11/07/2020\",\"11/14/2020\",\"11/21/2020\",\"11/28/2020\",\"12/05/2020\",\"12/12/2020\",\"12/19/2020\",\"12/26/2020\",\"01/02/2021\",\"01/09/2021\",\"01/16/2021\",\"01/23/2021\",\"01/30/2021\",\"02/06/2021\",\"02/13/2021\",\"02/20/2021\",\"02/27/2021\",\"03/06/2021\",\"03/13/2021\",\"03/20/2021\",\"03/27/2021\",\"04/03/2021\",\"04/10/2021\",\"04/17/2021\",\"04/24/2021\",\"05/01/2021\",\"05/08/2021\",\"05/15/2021\",\"05/22/2021\",\"05/29/2021\",\"06/05/2021\",\"06/12/2021\",\"06/19/2021\",\"06/26/2021\",\"07/03/2021\",\"07/10/2021\",\"07/17/2021\",\"07/24/2021\",\"07/31/2021\",\"08/07/2021\",\"08/14/2021\",\"08/21/2021\",\"08/28/2021\",\"09/04/2021\",\"09/11/2021\",\"09/18/2021\",\"09/25/2021\",\"10/02/2021\",\"10/09/2021\",\"10/16/2021\",\"10/23/2021\",\"10/30/2021\",\"11/06/2021\",\"11/13/2021\",\"11/20/2021\",\"11/27/2021\",\"12/04/2021\",\"12/11/2021\",\"12/18/2021\",\"12/25/2021\",\"01/01/2022\",\"01/08/2022\",\"01/15/2022\",\"01/22/2022\",\"01/29/2022\",\"02/05/2022\",\"02/12/2022\",\"02/19/2022\",\"02/26/2022\",\"03/05/2022\",\"03/12/2022\"],\"xaxis\":\"x\",\"y\":[0,0,1,1,0,2,3,1,6,22,29,367,1954,6099,9297,9344,8175,6811,5811,4524,3720,3158,2570,2208,1997,2029,2524,3262,4045,4573,4682,4385,4009,3423,3080,2663,2513,2286,2360,2301,2615,2754,3271,3817,4816,5877,7314,8611,10070,11335,12111,12742,13755,14347,14282,13102,11378,9792,7689,6203,4821,3831,3194,2780,2498,2316,2392,2548,2518,2287,2197,1969,1808,1499,1257,1109,943,926,828,875,1094,1565,2368,3713,5252,6911,8040,8711,8692,8605,8032,7161,6253,5499,5075,4396,4162,3993,4090,4485,4902,5472,5672,5840,6271,8032,10128,11122,10864,9409,7277,4648,2862,1674,571],\"yaxis\":\"y\",\"type\":\"scatter\"},{\"hovertemplate\":\"variable=Female Deaths<br>Date=%{x}<br>value=%{y}<extra></extra>\",\"legendgroup\":\"Female Deaths\",\"line\":{\"color\":\"#EF553B\",\"dash\":\"solid\"},\"marker\":{\"symbol\":\"circle\"},\"mode\":\"lines\",\"name\":\"Female Deaths\",\"orientation\":\"v\",\"showlegend\":true,\"x\":[\"01/04/2020\",\"01/11/2020\",\"01/18/2020\",\"01/25/2020\",\"02/01/2020\",\"02/08/2020\",\"02/15/2020\",\"02/22/2020\",\"02/29/2020\",\"03/07/2020\",\"03/14/2020\",\"03/21/2020\",\"03/28/2020\",\"04/04/2020\",\"04/11/2020\",\"04/18/2020\",\"04/25/2020\",\"05/02/2020\",\"05/09/2020\",\"05/16/2020\",\"05/23/2020\",\"05/30/2020\",\"06/06/2020\",\"06/13/2020\",\"06/20/2020\",\"06/27/2020\",\"07/04/2020\",\"07/11/2020\",\"07/18/2020\",\"07/25/2020\",\"08/01/2020\",\"08/08/2020\",\"08/15/2020\",\"08/22/2020\",\"08/29/2020\",\"09/05/2020\",\"09/12/2020\",\"09/19/2020\",\"09/26/2020\",\"10/03/2020\",\"10/10/2020\",\"10/17/2020\",\"10/24/2020\",\"10/31/2020\",\"11/07/2020\",\"11/14/2020\",\"11/21/2020\",\"11/28/2020\",\"12/05/2020\",\"12/12/2020\",\"12/19/2020\",\"12/26/2020\",\"01/02/2021\",\"01/09/2021\",\"01/16/2021\",\"01/23/2021\",\"01/30/2021\",\"02/06/2021\",\"02/13/2021\",\"02/20/2021\",\"02/27/2021\",\"03/06/2021\",\"03/13/2021\",\"03/20/2021\",\"03/27/2021\",\"04/03/2021\",\"04/10/2021\",\"04/17/2021\",\"04/24/2021\",\"05/01/2021\",\"05/08/2021\",\"05/15/2021\",\"05/22/2021\",\"05/29/2021\",\"06/05/2021\",\"06/12/2021\",\"06/19/2021\",\"06/26/2021\",\"07/03/2021\",\"07/10/2021\",\"07/17/2021\",\"07/24/2021\",\"07/31/2021\",\"08/07/2021\",\"08/14/2021\",\"08/21/2021\",\"08/28/2021\",\"09/04/2021\",\"09/11/2021\",\"09/18/2021\",\"09/25/2021\",\"10/02/2021\",\"10/09/2021\",\"10/16/2021\",\"10/23/2021\",\"10/30/2021\",\"11/06/2021\",\"11/13/2021\",\"11/20/2021\",\"11/27/2021\",\"12/04/2021\",\"12/11/2021\",\"12/18/2021\",\"12/25/2021\",\"01/01/2022\",\"01/08/2022\",\"01/15/2022\",\"01/22/2022\",\"01/29/2022\",\"02/05/2022\",\"02/12/2022\",\"02/19/2022\",\"02/26/2022\",\"03/05/2022\",\"03/12/2022\"],\"xaxis\":\"x\",\"y\":[0,1,1,1,0,2,2,5,3,16,31,221,1263,4034,7030,7861,7376,6405,5426,4713,3527,3014,2488,2024,1854,1815,2028,2523,3152,3674,3625,3484,3253,2965,2673,2356,2114,1993,1941,1943,2207,2447,2725,3210,3946,4776,6045,7015,8499,9590,10218,10643,11126,11660,11445,10610,8968,7255,5847,4620,3841,2895,2531,2123,1952,1885,1922,1901,2084,1881,1807,1722,1429,1273,1092,928,835,710,715,765,896,1197,1750,2773,4136,5261,6124,6755,6695,6582,6255,5626,4835,4291,3806,3521,3044,3107,3162,3312,3784,4123,4391,4408,5082,6400,7980,8860,8533,7386,5567,3821,2282,1322,439],\"yaxis\":\"y\",\"type\":\"scatter\"},{\"hovertemplate\":\"variable=All Sex Deaths<br>Date=%{x}<br>value=%{y}<extra></extra>\",\"legendgroup\":\"All Sex Deaths\",\"line\":{\"color\":\"#00cc96\",\"dash\":\"solid\"},\"marker\":{\"symbol\":\"circle\"},\"mode\":\"lines\",\"name\":\"All Sex Deaths\",\"orientation\":\"v\",\"showlegend\":true,\"x\":[\"01/04/2020\",\"01/11/2020\",\"01/18/2020\",\"01/25/2020\",\"02/01/2020\",\"02/08/2020\",\"02/15/2020\",\"02/22/2020\",\"02/29/2020\",\"03/07/2020\",\"03/14/2020\",\"03/21/2020\",\"03/28/2020\",\"04/04/2020\",\"04/11/2020\",\"04/18/2020\",\"04/25/2020\",\"05/02/2020\",\"05/09/2020\",\"05/16/2020\",\"05/23/2020\",\"05/30/2020\",\"06/06/2020\",\"06/13/2020\",\"06/20/2020\",\"06/27/2020\",\"07/04/2020\",\"07/11/2020\",\"07/18/2020\",\"07/25/2020\",\"08/01/2020\",\"08/08/2020\",\"08/15/2020\",\"08/22/2020\",\"08/29/2020\",\"09/05/2020\",\"09/12/2020\",\"09/19/2020\",\"09/26/2020\",\"10/03/2020\",\"10/10/2020\",\"10/17/2020\",\"10/24/2020\",\"10/31/2020\",\"11/07/2020\",\"11/14/2020\",\"11/21/2020\",\"11/28/2020\",\"12/05/2020\",\"12/12/2020\",\"12/19/2020\",\"12/26/2020\",\"01/02/2021\",\"01/09/2021\",\"01/16/2021\",\"01/23/2021\",\"01/30/2021\",\"02/06/2021\",\"02/13/2021\",\"02/20/2021\",\"02/27/2021\",\"03/06/2021\",\"03/13/2021\",\"03/20/2021\",\"03/27/2021\",\"04/03/2021\",\"04/10/2021\",\"04/17/2021\",\"04/24/2021\",\"05/01/2021\",\"05/08/2021\",\"05/15/2021\",\"05/22/2021\",\"05/29/2021\",\"06/05/2021\",\"06/12/2021\",\"06/19/2021\",\"06/26/2021\",\"07/03/2021\",\"07/10/2021\",\"07/17/2021\",\"07/24/2021\",\"07/31/2021\",\"08/07/2021\",\"08/14/2021\",\"08/21/2021\",\"08/28/2021\",\"09/04/2021\",\"09/11/2021\",\"09/18/2021\",\"09/25/2021\",\"10/02/2021\",\"10/09/2021\",\"10/16/2021\",\"10/23/2021\",\"10/30/2021\",\"11/06/2021\",\"11/13/2021\",\"11/20/2021\",\"11/27/2021\",\"12/04/2021\",\"12/11/2021\",\"12/18/2021\",\"12/25/2021\",\"01/01/2022\",\"01/08/2022\",\"01/15/2022\",\"01/22/2022\",\"01/29/2022\",\"02/05/2022\",\"02/12/2022\",\"02/19/2022\",\"02/26/2022\",\"03/05/2022\",\"03/12/2022\"],\"xaxis\":\"x\",\"y\":[0,1,2,2,0,4,5,6,9,38,60,588,3217,10133,16327,17205,15551,13216,11237,9237,7247,6172,5058,4232,3851,3844,4552,5785,7197,8247,8307,7869,7262,6388,5753,5019,4627,4279,4301,4244,4822,5201,5996,7027,8762,10653,13359,15626,18569,20925,22329,23385,24881,26007,25727,23712,20346,17047,13536,10823,8662,6726,5725,4903,4450,4201,4314,4449,4602,4168,4004,3691,3237,2772,2349,2037,1778,1636,1543,1640,1990,2762,4118,6486,9388,12172,14164,15466,15387,15187,14287,12787,11088,9790,8881,7917,7206,7100,7252,7797,8686,9595,10063,10248,11353,14432,18108,19982,19397,16795,12844,8469,5144,2996,1010],\"yaxis\":\"y\",\"type\":\"scatter\"}],                        {\"template\":{\"data\":{\"bar\":[{\"error_x\":{\"color\":\"#2a3f5f\"},\"error_y\":{\"color\":\"#2a3f5f\"},\"marker\":{\"line\":{\"color\":\"#E5ECF6\",\"width\":0.5},\"pattern\":{\"fillmode\":\"overlay\",\"size\":10,\"solidity\":0.2}},\"type\":\"bar\"}],\"barpolar\":[{\"marker\":{\"line\":{\"color\":\"#E5ECF6\",\"width\":0.5},\"pattern\":{\"fillmode\":\"overlay\",\"size\":10,\"solidity\":0.2}},\"type\":\"barpolar\"}],\"carpet\":[{\"aaxis\":{\"endlinecolor\":\"#2a3f5f\",\"gridcolor\":\"white\",\"linecolor\":\"white\",\"minorgridcolor\":\"white\",\"startlinecolor\":\"#2a3f5f\"},\"baxis\":{\"endlinecolor\":\"#2a3f5f\",\"gridcolor\":\"white\",\"linecolor\":\"white\",\"minorgridcolor\":\"white\",\"startlinecolor\":\"#2a3f5f\"},\"type\":\"carpet\"}],\"choropleth\":[{\"colorbar\":{\"outlinewidth\":0,\"ticks\":\"\"},\"type\":\"choropleth\"}],\"contour\":[{\"colorbar\":{\"outlinewidth\":0,\"ticks\":\"\"},\"colorscale\":[[0.0,\"#0d0887\"],[0.1111111111111111,\"#46039f\"],[0.2222222222222222,\"#7201a8\"],[0.3333333333333333,\"#9c179e\"],[0.4444444444444444,\"#bd3786\"],[0.5555555555555556,\"#d8576b\"],[0.6666666666666666,\"#ed7953\"],[0.7777777777777778,\"#fb9f3a\"],[0.8888888888888888,\"#fdca26\"],[1.0,\"#f0f921\"]],\"type\":\"contour\"}],\"contourcarpet\":[{\"colorbar\":{\"outlinewidth\":0,\"ticks\":\"\"},\"type\":\"contourcarpet\"}],\"heatmap\":[{\"colorbar\":{\"outlinewidth\":0,\"ticks\":\"\"},\"colorscale\":[[0.0,\"#0d0887\"],[0.1111111111111111,\"#46039f\"],[0.2222222222222222,\"#7201a8\"],[0.3333333333333333,\"#9c179e\"],[0.4444444444444444,\"#bd3786\"],[0.5555555555555556,\"#d8576b\"],[0.6666666666666666,\"#ed7953\"],[0.7777777777777778,\"#fb9f3a\"],[0.8888888888888888,\"#fdca26\"],[1.0,\"#f0f921\"]],\"type\":\"heatmap\"}],\"heatmapgl\":[{\"colorbar\":{\"outlinewidth\":0,\"ticks\":\"\"},\"colorscale\":[[0.0,\"#0d0887\"],[0.1111111111111111,\"#46039f\"],[0.2222222222222222,\"#7201a8\"],[0.3333333333333333,\"#9c179e\"],[0.4444444444444444,\"#bd3786\"],[0.5555555555555556,\"#d8576b\"],[0.6666666666666666,\"#ed7953\"],[0.7777777777777778,\"#fb9f3a\"],[0.8888888888888888,\"#fdca26\"],[1.0,\"#f0f921\"]],\"type\":\"heatmapgl\"}],\"histogram\":[{\"marker\":{\"pattern\":{\"fillmode\":\"overlay\",\"size\":10,\"solidity\":0.2}},\"type\":\"histogram\"}],\"histogram2d\":[{\"colorbar\":{\"outlinewidth\":0,\"ticks\":\"\"},\"colorscale\":[[0.0,\"#0d0887\"],[0.1111111111111111,\"#46039f\"],[0.2222222222222222,\"#7201a8\"],[0.3333333333333333,\"#9c179e\"],[0.4444444444444444,\"#bd3786\"],[0.5555555555555556,\"#d8576b\"],[0.6666666666666666,\"#ed7953\"],[0.7777777777777778,\"#fb9f3a\"],[0.8888888888888888,\"#fdca26\"],[1.0,\"#f0f921\"]],\"type\":\"histogram2d\"}],\"histogram2dcontour\":[{\"colorbar\":{\"outlinewidth\":0,\"ticks\":\"\"},\"colorscale\":[[0.0,\"#0d0887\"],[0.1111111111111111,\"#46039f\"],[0.2222222222222222,\"#7201a8\"],[0.3333333333333333,\"#9c179e\"],[0.4444444444444444,\"#bd3786\"],[0.5555555555555556,\"#d8576b\"],[0.6666666666666666,\"#ed7953\"],[0.7777777777777778,\"#fb9f3a\"],[0.8888888888888888,\"#fdca26\"],[1.0,\"#f0f921\"]],\"type\":\"histogram2dcontour\"}],\"mesh3d\":[{\"colorbar\":{\"outlinewidth\":0,\"ticks\":\"\"},\"type\":\"mesh3d\"}],\"parcoords\":[{\"line\":{\"colorbar\":{\"outlinewidth\":0,\"ticks\":\"\"}},\"type\":\"parcoords\"}],\"pie\":[{\"automargin\":true,\"type\":\"pie\"}],\"scatter\":[{\"marker\":{\"colorbar\":{\"outlinewidth\":0,\"ticks\":\"\"}},\"type\":\"scatter\"}],\"scatter3d\":[{\"line\":{\"colorbar\":{\"outlinewidth\":0,\"ticks\":\"\"}},\"marker\":{\"colorbar\":{\"outlinewidth\":0,\"ticks\":\"\"}},\"type\":\"scatter3d\"}],\"scattercarpet\":[{\"marker\":{\"colorbar\":{\"outlinewidth\":0,\"ticks\":\"\"}},\"type\":\"scattercarpet\"}],\"scattergeo\":[{\"marker\":{\"colorbar\":{\"outlinewidth\":0,\"ticks\":\"\"}},\"type\":\"scattergeo\"}],\"scattergl\":[{\"marker\":{\"colorbar\":{\"outlinewidth\":0,\"ticks\":\"\"}},\"type\":\"scattergl\"}],\"scattermapbox\":[{\"marker\":{\"colorbar\":{\"outlinewidth\":0,\"ticks\":\"\"}},\"type\":\"scattermapbox\"}],\"scatterpolar\":[{\"marker\":{\"colorbar\":{\"outlinewidth\":0,\"ticks\":\"\"}},\"type\":\"scatterpolar\"}],\"scatterpolargl\":[{\"marker\":{\"colorbar\":{\"outlinewidth\":0,\"ticks\":\"\"}},\"type\":\"scatterpolargl\"}],\"scatterternary\":[{\"marker\":{\"colorbar\":{\"outlinewidth\":0,\"ticks\":\"\"}},\"type\":\"scatterternary\"}],\"surface\":[{\"colorbar\":{\"outlinewidth\":0,\"ticks\":\"\"},\"colorscale\":[[0.0,\"#0d0887\"],[0.1111111111111111,\"#46039f\"],[0.2222222222222222,\"#7201a8\"],[0.3333333333333333,\"#9c179e\"],[0.4444444444444444,\"#bd3786\"],[0.5555555555555556,\"#d8576b\"],[0.6666666666666666,\"#ed7953\"],[0.7777777777777778,\"#fb9f3a\"],[0.8888888888888888,\"#fdca26\"],[1.0,\"#f0f921\"]],\"type\":\"surface\"}],\"table\":[{\"cells\":{\"fill\":{\"color\":\"#EBF0F8\"},\"line\":{\"color\":\"white\"}},\"header\":{\"fill\":{\"color\":\"#C8D4E3\"},\"line\":{\"color\":\"white\"}},\"type\":\"table\"}]},\"layout\":{\"annotationdefaults\":{\"arrowcolor\":\"#2a3f5f\",\"arrowhead\":0,\"arrowwidth\":1},\"autotypenumbers\":\"strict\",\"coloraxis\":{\"colorbar\":{\"outlinewidth\":0,\"ticks\":\"\"}},\"colorscale\":{\"diverging\":[[0,\"#8e0152\"],[0.1,\"#c51b7d\"],[0.2,\"#de77ae\"],[0.3,\"#f1b6da\"],[0.4,\"#fde0ef\"],[0.5,\"#f7f7f7\"],[0.6,\"#e6f5d0\"],[0.7,\"#b8e186\"],[0.8,\"#7fbc41\"],[0.9,\"#4d9221\"],[1,\"#276419\"]],\"sequential\":[[0.0,\"#0d0887\"],[0.1111111111111111,\"#46039f\"],[0.2222222222222222,\"#7201a8\"],[0.3333333333333333,\"#9c179e\"],[0.4444444444444444,\"#bd3786\"],[0.5555555555555556,\"#d8576b\"],[0.6666666666666666,\"#ed7953\"],[0.7777777777777778,\"#fb9f3a\"],[0.8888888888888888,\"#fdca26\"],[1.0,\"#f0f921\"]],\"sequentialminus\":[[0.0,\"#0d0887\"],[0.1111111111111111,\"#46039f\"],[0.2222222222222222,\"#7201a8\"],[0.3333333333333333,\"#9c179e\"],[0.4444444444444444,\"#bd3786\"],[0.5555555555555556,\"#d8576b\"],[0.6666666666666666,\"#ed7953\"],[0.7777777777777778,\"#fb9f3a\"],[0.8888888888888888,\"#fdca26\"],[1.0,\"#f0f921\"]]},\"colorway\":[\"#636efa\",\"#EF553B\",\"#00cc96\",\"#ab63fa\",\"#FFA15A\",\"#19d3f3\",\"#FF6692\",\"#B6E880\",\"#FF97FF\",\"#FECB52\"],\"font\":{\"color\":\"#2a3f5f\"},\"geo\":{\"bgcolor\":\"white\",\"lakecolor\":\"white\",\"landcolor\":\"#E5ECF6\",\"showlakes\":true,\"showland\":true,\"subunitcolor\":\"white\"},\"hoverlabel\":{\"align\":\"left\"},\"hovermode\":\"closest\",\"mapbox\":{\"style\":\"light\"},\"paper_bgcolor\":\"white\",\"plot_bgcolor\":\"#E5ECF6\",\"polar\":{\"angularaxis\":{\"gridcolor\":\"white\",\"linecolor\":\"white\",\"ticks\":\"\"},\"bgcolor\":\"#E5ECF6\",\"radialaxis\":{\"gridcolor\":\"white\",\"linecolor\":\"white\",\"ticks\":\"\"}},\"scene\":{\"xaxis\":{\"backgroundcolor\":\"#E5ECF6\",\"gridcolor\":\"white\",\"gridwidth\":2,\"linecolor\":\"white\",\"showbackground\":true,\"ticks\":\"\",\"zerolinecolor\":\"white\"},\"yaxis\":{\"backgroundcolor\":\"#E5ECF6\",\"gridcolor\":\"white\",\"gridwidth\":2,\"linecolor\":\"white\",\"showbackground\":true,\"ticks\":\"\",\"zerolinecolor\":\"white\"},\"zaxis\":{\"backgroundcolor\":\"#E5ECF6\",\"gridcolor\":\"white\",\"gridwidth\":2,\"linecolor\":\"white\",\"showbackground\":true,\"ticks\":\"\",\"zerolinecolor\":\"white\"}},\"shapedefaults\":{\"line\":{\"color\":\"#2a3f5f\"}},\"ternary\":{\"aaxis\":{\"gridcolor\":\"white\",\"linecolor\":\"white\",\"ticks\":\"\"},\"baxis\":{\"gridcolor\":\"white\",\"linecolor\":\"white\",\"ticks\":\"\"},\"bgcolor\":\"#E5ECF6\",\"caxis\":{\"gridcolor\":\"white\",\"linecolor\":\"white\",\"ticks\":\"\"}},\"title\":{\"x\":0.05},\"xaxis\":{\"automargin\":true,\"gridcolor\":\"white\",\"linecolor\":\"white\",\"ticks\":\"\",\"title\":{\"standoff\":15},\"zerolinecolor\":\"white\",\"zerolinewidth\":2},\"yaxis\":{\"automargin\":true,\"gridcolor\":\"white\",\"linecolor\":\"white\",\"ticks\":\"\",\"title\":{\"standoff\":15},\"zerolinecolor\":\"white\",\"zerolinewidth\":2}}},\"xaxis\":{\"anchor\":\"y\",\"domain\":[0.0,1.0],\"title\":{\"text\":\"Date\"}},\"yaxis\":{\"anchor\":\"x\",\"domain\":[0.0,1.0],\"title\":{\"text\":\"value\"}},\"legend\":{\"title\":{\"text\":\"variable\"},\"tracegroupgap\":0},\"margin\":{\"t\":60}},                        {\"responsive\": true}                    ).then(function(){\n",
       "                            \n",
       "var gd = document.getElementById('8b658b0f-8c2d-4834-bac5-66f1fed14272');\n",
       "var x = new MutationObserver(function (mutations, observer) {{\n",
       "        var display = window.getComputedStyle(gd).display;\n",
       "        if (!display || display === 'none') {{\n",
       "            console.log([gd, 'removed!']);\n",
       "            Plotly.purge(gd);\n",
       "            observer.disconnect();\n",
       "        }}\n",
       "}});\n",
       "\n",
       "// Listen for the removal of the full notebook cells\n",
       "var notebookContainer = gd.closest('#notebook-container');\n",
       "if (notebookContainer) {{\n",
       "    x.observe(notebookContainer, {childList: true});\n",
       "}}\n",
       "\n",
       "// Listen for the clearing of the current output cell\n",
       "var outputEl = gd.closest('.output');\n",
       "if (outputEl) {{\n",
       "    x.observe(outputEl, {childList: true});\n",
       "}}\n",
       "\n",
       "                        })                };                });            </script>        </div>"
      ]
     },
     "metadata": {},
     "output_type": "display_data"
    }
   ],
   "source": [
    "fig = px.line(Combined_df_for_sex, x='Date', y=[\"Male Deaths\",\"Female Deaths\",\"All Sex Deaths\"])\n",
    "fig.show()"
   ]
  },
  {
   "cell_type": "code",
   "execution_count": null,
   "id": "f254aaf8",
   "metadata": {
    "pycharm": {
     "name": "#%%\n"
    }
   },
   "outputs": [],
   "source": []
  }
 ],
 "metadata": {
  "kernelspec": {
   "display_name": "Python 3 (ipykernel)",
   "language": "python",
   "name": "python3"
  },
  "language_info": {
   "codemirror_mode": {
    "name": "ipython",
    "version": 3
   },
   "file_extension": ".py",
   "mimetype": "text/x-python",
   "name": "python",
   "nbconvert_exporter": "python",
   "pygments_lexer": "ipython3",
   "version": "3.8.12"
  }
 },
 "nbformat": 4,
 "nbformat_minor": 5
}